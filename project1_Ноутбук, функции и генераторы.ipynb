{
 "cells": [
  {
   "cell_type": "markdown",
   "id": "d09af879",
   "metadata": {},
   "source": [
    "## Задача 2\n",
    "\n",
    "На складе лежат разные фрукты в разном количестве.\n",
    "Нужно написать функцию, которая на вход принимает любое количество названий фруктов и их количество, а возвращает общее количество фруктов на складе"
   ]
  },
  {
   "cell_type": "code",
   "execution_count": 4,
   "id": "bef56cfb",
   "metadata": {},
   "outputs": [
    {
     "data": {
      "text/plain": [
       "105"
      ]
     },
     "execution_count": 4,
     "metadata": {},
     "output_type": "execute_result"
    }
   ],
   "source": [
    "def total_fruits(**fruits):\n",
    "    total_amount = 0\n",
    "    for amount in fruits.values():\n",
    "        total_amount += amount\n",
    "    return total_amount\n",
    "\n",
    "total_fruits(pineapple=30, orange=45, kiwi=30)"
   ]
  },
  {
   "cell_type": "markdown",
   "id": "9e2c096f",
   "metadata": {},
   "source": [
    "## Задача 3\n",
    "\n",
    "Дан список с затратами на рекламу. Но в данных есть ошибки, некоторые затраты имеют отрицательную величину. Удалите такие значения из списка и посчитайте суммарные затраты\n",
    "\n",
    "Используйте list comprehensions"
   ]
  },
  {
   "cell_type": "code",
   "execution_count": 5,
   "id": "457b8d79",
   "metadata": {},
   "outputs": [],
   "source": [
    "list = [100, 125, -90, 345, 655, -1, 0, 200]"
   ]
  },
  {
   "cell_type": "code",
   "execution_count": 6,
   "id": "1ee4fcfe",
   "metadata": {},
   "outputs": [
    {
     "data": {
      "text/plain": [
       "1425"
      ]
     },
     "execution_count": 6,
     "metadata": {},
     "output_type": "execute_result"
    }
   ],
   "source": [
    "sum(i for i in list if i > 0)"
   ]
  },
  {
   "cell_type": "markdown",
   "id": "4e0fe259",
   "metadata": {},
   "source": [
    "## Задача 4\n",
    "\n",
    "Даны два списка:\n",
    "    \n",
    "- дата покупки\n",
    "- суммы покупок по датам\n",
    "\n"
   ]
  },
  {
   "cell_type": "code",
   "execution_count": 2,
   "id": "97630478",
   "metadata": {},
   "outputs": [],
   "source": [
    "date = ['2021-09-14', '2021-12-15', '2021-09-08', '2021-12-05', '2021-10-09', '2021-09-30', '2021-12-22', '2021-11-29', '2021-12-24', '2021-11-26', '2021-10-27', '2021-12-18', '2021-11-09', '2021-11-23', '2021-09-27', '2021-10-02', '2021-12-27', '2021-09-20', '2021-12-13', '2021-11-01', '2021-11-09', '2021-12-06', '2021-12-08', '2021-10-09', '2021-10-31', '2021-09-30', '2021-11-09', '2021-12-13', '2021-10-26', '2021-12-09']\n",
    "income = [1270, 8413, 9028, 3703, 5739, 4095, 295, 4944, 5723, 3701, 4471, 651, 7037, 4274, 6275, 4988, 6930, 2971, 6592, 2004, 2822, 519, 3406, 2732, 5015, 2008, 316, 6333, 5700, 2887]"
   ]
  },
  {
   "cell_type": "markdown",
   "id": "7d1fffb2",
   "metadata": {},
   "source": [
    "### 4.1 Найдите, какая выручка у компании в ноябре\n",
    "\n",
    "Используйте list comprehensions"
   ]
  },
  {
   "cell_type": "code",
   "execution_count": 3,
   "id": "4f4a246b",
   "metadata": {},
   "outputs": [
    {
     "data": {
      "text/plain": [
       "25098"
      ]
     },
     "execution_count": 3,
     "metadata": {},
     "output_type": "execute_result"
    }
   ],
   "source": [
    "sum([income[i] for i in range(len(date)) if date[i].split('-')[1] == '11'])\n",
    "\n",
    "# date[i].split('-')[1] Этот код берет дату из списка дат (date) по индексу i,\n",
    "# затем разделяет дату на части, используя символ \"-\" в качестве разделителя,\n",
    "# и возвращает вторую часть (индекс 1) - это месяц.\n",
    "# Например, если дата имеет вид \"2021-11-09\", то код вернет \"11\",\n",
    "# что соответствует ноябрю."
   ]
  },
  {
   "cell_type": "markdown",
   "id": "41a57307",
   "metadata": {},
   "source": [
    "### 4.2 Найдите выручку компании в зависимости от месяца\n",
    "\n",
    "Для этого напишите функцию, которая на вход принимает список с датами и список с выручкой, а на выходе словарь, где ключи - это месяцы, а значения - это выручка.\n",
    "Используйте аннотирование типов."
   ]
  },
  {
   "cell_type": "code",
   "execution_count": 26,
   "id": "0956f055",
   "metadata": {},
   "outputs": [
    {
     "data": {
      "text/plain": [
       "{'09': 25647, '12': 45452, '10': 28645, '11': 25098}"
      ]
     },
     "execution_count": 26,
     "metadata": {},
     "output_type": "execute_result"
    }
   ],
   "source": [
    "def income_by_month(date: list, income: list) -> dict:\n",
    "    income_by_month = {}\n",
    "    \n",
    "    for i in range(len(date)):\n",
    "        month = date[i].split('-')[1]\n",
    "        if month in income_by_month.keys():\n",
    "            income_by_month[month] += income[i]\n",
    "        else:\n",
    "            income_by_month[month] = income[i]\n",
    "        \n",
    "    return income_by_month\n",
    "\n",
    "income_by_month(date, income)"
   ]
  },
  {
   "cell_type": "code",
   "execution_count": null,
   "id": "e47c4de8",
   "metadata": {},
   "outputs": [],
   "source": []
  },
  {
   "cell_type": "code",
   "execution_count": null,
   "id": "d52e48ea",
   "metadata": {},
   "outputs": [],
   "source": []
  }
 ],
 "metadata": {
  "kernelspec": {
   "display_name": "Python 3 (ipykernel)",
   "language": "python",
   "name": "python3"
  },
  "language_info": {
   "codemirror_mode": {
    "name": "ipython",
    "version": 3
   },
   "file_extension": ".py",
   "mimetype": "text/x-python",
   "name": "python",
   "nbconvert_exporter": "python",
   "pygments_lexer": "ipython3",
   "version": "3.9.13"
  }
 },
 "nbformat": 4,
 "nbformat_minor": 5
}
